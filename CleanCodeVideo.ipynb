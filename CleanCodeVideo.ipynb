{
 "cells": [
  {
   "cell_type": "markdown",
   "metadata": {},
   "source": [
    "# Dicas - Clean Code\n",
    "\n",
    "## 1. Três mantras: Legibilidade, Explícito e Bonito"
   ]
  },
  {
   "cell_type": "code",
   "execution_count": 4,
   "metadata": {},
   "outputs": [
    {
     "data": {
      "text/plain": [
       "365"
      ]
     },
     "execution_count": 4,
     "metadata": {},
     "output_type": "execute_result"
    }
   ],
   "source": [
    "'''\n",
    "ano = 2020\n",
    "dias = 365\n",
    "if (ano % 4 == 0 and ano % 100 != 0) or ano % 400 == 0:\n",
    "    dias += 1\n",
    "'''\n",
    "\n",
    "def verifica_ano_bissexto(ano):\n",
    "    if (ano % 4 == 0 and ano % 100 != 0) or ano % 400 == 0:\n",
    "        return True\n",
    "    else:\n",
    "        return False\n",
    "    \n",
    "ano = 2019\n",
    "dias = 365\n",
    "if verifica_ano_bissexto(ano):\n",
    "    dias += 1\n",
    "    \n",
    "dias"
   ]
  },
  {
   "cell_type": "code",
   "execution_count": 5,
   "metadata": {},
   "outputs": [
    {
     "data": {
      "text/plain": [
       "'18/11/2020'"
      ]
     },
     "execution_count": 5,
     "metadata": {},
     "output_type": "execute_result"
    }
   ],
   "source": [
    "import datetime\n",
    "\n",
    "data_de_hoje = datetime.date.today().strftime(\"%d/%m/%Y\")"
   ]
  },
  {
   "cell_type": "markdown",
   "metadata": {},
   "source": [
    "## 2. Convenções para:"
   ]
  },
  {
   "cell_type": "markdown",
   "metadata": {},
   "source": [
    "### 2.1 Variáveis"
   ]
  },
  {
   "cell_type": "code",
   "execution_count": null,
   "metadata": {},
   "outputs": [],
   "source": [
    "nome_completo = \"Lucas Lattari\""
   ]
  },
  {
   "cell_type": "markdown",
   "metadata": {},
   "source": [
    "### 2.2 Constantes"
   ]
  },
  {
   "cell_type": "code",
   "execution_count": 8,
   "metadata": {},
   "outputs": [
    {
     "data": {
      "text/plain": [
       "8640000000"
      ]
     },
     "execution_count": 8,
     "metadata": {},
     "output_type": "execute_result"
    }
   ],
   "source": [
    "PI = 3.14\n",
    "\n",
    "#area = PI * raio * raio\n",
    "\n",
    "TOTAL_SEGUNDOS_DIA = 8_640_000_000\n",
    "\n",
    "TOTAL_SEGUNDOS_DIA"
   ]
  },
  {
   "cell_type": "markdown",
   "metadata": {},
   "source": [
    "### 2.3 Funções"
   ]
  },
  {
   "cell_type": "code",
   "execution_count": 9,
   "metadata": {},
   "outputs": [],
   "source": [
    "def computa_idade(dias):\n",
    "    pass"
   ]
  },
  {
   "cell_type": "markdown",
   "metadata": {},
   "source": [
    "### 2.4 Classes"
   ]
  },
  {
   "cell_type": "code",
   "execution_count": 14,
   "metadata": {},
   "outputs": [
    {
     "ename": "AttributeError",
     "evalue": "'LoginUsuario' object has no attribute '__c'",
     "output_type": "error",
     "traceback": [
      "\u001b[1;31m---------------------------------------------------------------------------\u001b[0m",
      "\u001b[1;31mAttributeError\u001b[0m                            Traceback (most recent call last)",
      "\u001b[1;32m<ipython-input-14-b9dff8429220>\u001b[0m in \u001b[0;36m<module>\u001b[1;34m\u001b[0m\n\u001b[0;32m      7\u001b[0m \u001b[1;33m\u001b[0m\u001b[0m\n\u001b[0;32m      8\u001b[0m \u001b[0mobj_login\u001b[0m \u001b[1;33m=\u001b[0m \u001b[0mLoginUsuario\u001b[0m\u001b[1;33m(\u001b[0m\u001b[1;36m100\u001b[0m\u001b[1;33m,\u001b[0m \u001b[1;36m200\u001b[0m\u001b[1;33m,\u001b[0m \u001b[1;36m300\u001b[0m\u001b[1;33m)\u001b[0m\u001b[1;33m\u001b[0m\u001b[1;33m\u001b[0m\u001b[0m\n\u001b[1;32m----> 9\u001b[1;33m \u001b[0mobj_login\u001b[0m\u001b[1;33m.\u001b[0m\u001b[0m__c\u001b[0m\u001b[1;33m\u001b[0m\u001b[1;33m\u001b[0m\u001b[0m\n\u001b[0m",
      "\u001b[1;31mAttributeError\u001b[0m: 'LoginUsuario' object has no attribute '__c'"
     ]
    }
   ],
   "source": [
    "#a, b, c\n",
    "class LoginUsuario:\n",
    "    def __init__(self, param_a, param_b, param_c):\n",
    "        self.a = param_a\n",
    "        self._b = param_b\n",
    "        self.__c = param_c\n",
    "        \n",
    "obj_login = LoginUsuario(100, 200, 300)\n",
    "obj_login.__c"
   ]
  },
  {
   "cell_type": "code",
   "execution_count": null,
   "metadata": {},
   "outputs": [],
   "source": [
    "class Cachorro:\n",
    "    def __init__(self, energia, humor, fome, sono):\n",
    "        self.energia = energia\n",
    "        self.humor = humor\n",
    "        self.fome = fome\n",
    "        self.sono = sono\n",
    "        \n",
    "    def dormir(self):\n",
    "        self.energia += 2\n",
    "        self.fome += 2\n",
    "        \n",
    "    def brincar(self):\n",
    "        self.humor += 2\n",
    "        self.energia -= 2\n",
    "        print(\"au au\")\n",
    "        \n",
    "    def comer(self):\n",
    "        self.fome -= 2\n",
    "        self.humor += 2\n",
    "        print(\"chomp!\")\n",
    "\n",
    "        \n",
    "class Gato:\n",
    "    def __init__(self, energia, humor, fome, sono):\n",
    "        self.energia = energia\n",
    "        self.humor = humor\n",
    "        self.fome = fome\n",
    "        self.sono = sono\n",
    "        \n",
    "    def dormir(self):\n",
    "        self.energia += 2\n",
    "        self.fome += 2\n",
    "        \n",
    "    def brincar(self):\n",
    "        self.humor += 2\n",
    "        self.energia -= 2\n",
    "        print(\"miau\")\n",
    "        \n",
    "    def comer(self):\n",
    "        self.fome -= 2\n",
    "        self.humor += 2\n",
    "        print(\"chomp!\")"
   ]
  },
  {
   "cell_type": "markdown",
   "metadata": {},
   "source": [
    "## 3. Limite de caracteres por linha: 79"
   ]
  },
  {
   "cell_type": "code",
   "execution_count": 15,
   "metadata": {},
   "outputs": [
    {
     "ename": "ModuleNotFoundError",
     "evalue": "No module named 'mypkg'",
     "output_type": "error",
     "traceback": [
      "\u001b[1;31m---------------------------------------------------------------------------\u001b[0m",
      "\u001b[1;31mModuleNotFoundError\u001b[0m                       Traceback (most recent call last)",
      "\u001b[1;32m<ipython-input-15-36652f5387a5>\u001b[0m in \u001b[0;36m<module>\u001b[1;34m\u001b[0m\n\u001b[0;32m      3\u001b[0m     \u001b[1;32mpass\u001b[0m\u001b[1;33m\u001b[0m\u001b[1;33m\u001b[0m\u001b[0m\n\u001b[0;32m      4\u001b[0m \u001b[1;33m\u001b[0m\u001b[0m\n\u001b[1;32m----> 5\u001b[1;33m \u001b[1;32mfrom\u001b[0m \u001b[0mmypkg\u001b[0m \u001b[1;32mimport\u001b[0m \u001b[0mexample1\u001b[0m\u001b[1;33m,\u001b[0m \u001b[0mexample2\u001b[0m\u001b[1;33m,\u001b[0m\u001b[0;31m \u001b[0m\u001b[0;31m\\\u001b[0m\u001b[1;33m\u001b[0m\u001b[1;33m\u001b[0m\u001b[0m\n\u001b[0m\u001b[0;32m      6\u001b[0m \u001b[0mexample3\u001b[0m\u001b[1;33m,\u001b[0m \u001b[0mexample4\u001b[0m\u001b[1;33m,\u001b[0m \u001b[0mexample5\u001b[0m\u001b[1;33m\u001b[0m\u001b[1;33m\u001b[0m\u001b[0m\n",
      "\u001b[1;31mModuleNotFoundError\u001b[0m: No module named 'mypkg'"
     ]
    }
   ],
   "source": [
    "def funcao_qualquer_aqui(aqui, tem, mais, um, monte, de, \n",
    "                         caracteresxxxxxxxxxxxxxxxxxxxxxxxxxx, nessa, linha, e, agora):\n",
    "    pass\n",
    "\n",
    "from mypkg import example1, example2, \\\n",
    "    example3, example4, example5"
   ]
  },
  {
   "cell_type": "code",
   "execution_count": null,
   "metadata": {},
   "outputs": [],
   "source": [
    "soma = (soma1 + soma2 + soma3 + soma4 + soma5 * mult1 * mult2 \n",
    "        + soma1 + soma2 + soma3 + soma4 + soma5 * mult1 * mult2)"
   ]
  },
  {
   "cell_type": "markdown",
   "metadata": {},
   "source": [
    "## 4. Cuidados com indentação"
   ]
  },
  {
   "cell_type": "code",
   "execution_count": 16,
   "metadata": {},
   "outputs": [],
   "source": [
    "def func_exemplo():\n",
    "    print(\"aaaa\")"
   ]
  },
  {
   "cell_type": "code",
   "execution_count": 17,
   "metadata": {},
   "outputs": [],
   "source": [
    "nome = 'lucas'\n",
    "if (nome != 'fulano' and \n",
    "    nome != 'ciclano' and nome != 'beltrano'):\n",
    "    #verifica se o nome não faz parte do conjunto acima\n",
    "    pass"
   ]
  },
  {
   "cell_type": "code",
   "execution_count": 18,
   "metadata": {},
   "outputs": [],
   "source": [
    "nome = 'lucas'\n",
    "if (nome != 'fulano' and \n",
    "        nome != 'ciclano' and nome != 'beltrano'):\n",
    "    pass"
   ]
  },
  {
   "cell_type": "markdown",
   "metadata": {},
   "source": [
    "## 5. Comentários e Docstrings"
   ]
  },
  {
   "cell_type": "code",
   "execution_count": 19,
   "metadata": {},
   "outputs": [
    {
     "data": {
      "text/plain": [
       "(-0.6972243622680054, -4.302775637731995)"
      ]
     },
     "execution_count": 19,
     "metadata": {},
     "output_type": "execute_result"
    }
   ],
   "source": [
    "import math\n",
    "\n",
    "def compute_quadratic_equation(a, b, c):\n",
    "    # Computa a equação de segundo grau usando a fórmula de Bháskara.\n",
    "    #\n",
    "    # Ela retorna duas raízes.\n",
    "    delta = b ** 2 - 4 * a * c\n",
    "    x1 = (- b + math.sqrt(delta)) / (2 * a) #computa a primeira raiz\n",
    "    x2 = (- b - math.sqrt(delta)) / (2 * a) #computa a segunda raiz    \n",
    "    \n",
    "    return x1, x2\n",
    "\n",
    "compute_quadratic_equation(1, 5, 3)"
   ]
  },
  {
   "cell_type": "code",
   "execution_count": null,
   "metadata": {},
   "outputs": [],
   "source": [
    "import math\n",
    "\n",
    "def compute_quadratic_equation(a, b, c):\n",
    "    \"\"\"Computa a equação de segundo grau usando a fórmula de Bháskara.\n",
    "    \n",
    "    Ela retorna duas raízes.\n",
    "    \n",
    "    :param a: Constante a da equação.\n",
    "    :type a: float\n",
    "    :param b: Constante b da equação.\n",
    "    :type b: float\n",
    "    :param c: Constante c da equação.\n",
    "    :type c: float\n",
    "    \n",
    "    :returns: duas raízes da equação.\n",
    "    :rtype: tuple\n",
    "    \"\"\"\n",
    "    delta = b ** 2 - 4 * a * c\n",
    "    x1 = (- b + math.sqrt(delta)) / (2 * a) #computa a primeira raiz\n",
    "    x2 = (- b - math.sqrt(delta)) / (2 * a) #computa a segunda raiz    \n",
    "    \n",
    "    return x1, x2\n",
    "\n",
    "compute_quadratic_equation(1, 5, 3)"
   ]
  },
  {
   "cell_type": "markdown",
   "metadata": {},
   "source": [
    "## 6. Cuidado com Expressões Lambda"
   ]
  },
  {
   "cell_type": "code",
   "execution_count": 21,
   "metadata": {},
   "outputs": [
    {
     "data": {
      "text/plain": [
       "[{'primeiro_nome': 'Bianca', 'idade': 30},\n",
       " {'primeiro_nome': 'Fulano', 'idade': 15},\n",
       " {'primeiro_nome': 'Lucas', 'idade': 30}]"
      ]
     },
     "execution_count": 21,
     "metadata": {},
     "output_type": "execute_result"
    }
   ],
   "source": [
    "usuarios = [\n",
    "    {\"primeiro_nome\":\"Lucas\", \"idade\":30},\n",
    "    {\"primeiro_nome\":\"Bianca\", \"idade\":30},\n",
    "    {\"primeiro_nome\":\"Fulano\", \"idade\":15}\n",
    "]\n",
    "\n",
    "usuarios_ordenados_pelo_nome = sorted(usuarios, key=lambda u: u[\"primeiro_nome\"].lower())\n",
    "\n",
    "usuarios_ordenados_pelo_nome"
   ]
  },
  {
   "cell_type": "code",
   "execution_count": 23,
   "metadata": {},
   "outputs": [
    {
     "data": {
      "text/plain": [
       "[{'primeiro_nome': 'Bianca', 'idade': 30},\n",
       " {'primeiro_nome': 'Fulano', 'idade': 15},\n",
       " {'primeiro_nome': 'Lucas', 'idade': 30}]"
      ]
     },
     "execution_count": 23,
     "metadata": {},
     "output_type": "execute_result"
    }
   ],
   "source": [
    "usuarios = [\n",
    "    {\"primeiro_nome\":\"Lucas\", \"idade\":30},\n",
    "    {\"primeiro_nome\":\"Bianca\", \"idade\":30},\n",
    "    {\"primeiro_nome\":\"Fulano\", \"idade\":15}\n",
    "]\n",
    "\n",
    "def retorna_nomes_em_minusculo(usuarios):\n",
    "    return usuarios[\"primeiro_nome\"].lower()\n",
    "\n",
    "usuarios_ordenados_pelo_nome = sorted(usuarios, key=retorna_nomes_em_minusculo)"
   ]
  },
  {
   "cell_type": "markdown",
   "metadata": {},
   "source": [
    "## 7. Usar join() ao invés de somar strings"
   ]
  },
  {
   "cell_type": "code",
   "execution_count": 27,
   "metadata": {},
   "outputs": [
    {
     "data": {
      "text/plain": [
       "'Lucas Lattari'"
      ]
     },
     "execution_count": 27,
     "metadata": {},
     "output_type": "execute_result"
    }
   ],
   "source": [
    "primeiro_nome = \"Lucas\"\n",
    "ultimo_nome = \"Lattari\"\n",
    "\n",
    "nome_completo = \" \".join([primeiro_nome, ultimo_nome])\n",
    "\n",
    "nome_completo"
   ]
  },
  {
   "cell_type": "markdown",
   "metadata": {},
   "source": [
    "## 8. Usar \"is\" e \"not is\" do jeito certo"
   ]
  },
  {
   "cell_type": "code",
   "execution_count": 33,
   "metadata": {},
   "outputs": [
    {
     "name": "stdout",
     "output_type": "stream",
     "text": [
      "x é válido\n"
     ]
    }
   ],
   "source": [
    "x = 13\n",
    "\n",
    "if x is not None:\n",
    "    print(\"x é válido\")\n",
    "    \n",
    "if x is None:\n",
    "    print(\"x é inválido\")"
   ]
  },
  {
   "cell_type": "markdown",
   "metadata": {},
   "source": [
    "## 9. Retornar algo explícito sempre"
   ]
  },
  {
   "cell_type": "code",
   "execution_count": 38,
   "metadata": {},
   "outputs": [
    {
     "name": "stdout",
     "output_type": "stream",
     "text": [
      "None\n"
     ]
    }
   ],
   "source": [
    "def verifica_par(x):\n",
    "    if x % 2 == 0:\n",
    "        return True\n",
    "    else:\n",
    "        return False\n",
    "    \n",
    "print(verifica_par(3))"
   ]
  },
  {
   "cell_type": "markdown",
   "metadata": {},
   "source": [
    "## 10. Usar startswith() e endswith()"
   ]
  },
  {
   "cell_type": "code",
   "execution_count": 46,
   "metadata": {},
   "outputs": [
    {
     "name": "stdout",
     "output_type": "stream",
     "text": [
      "é imagem\n"
     ]
    }
   ],
   "source": [
    "arquivo = \"exemplo.jpeg\"\n",
    "\n",
    "if arquivo.endswith(\"jpg\") or arquivo.endswith(\"jpeg\"):\n",
    "    print(\"é imagem\")"
   ]
  },
  {
   "cell_type": "markdown",
   "metadata": {},
   "source": [
    "## 11. Usar isinstance() ao invés de type para comparação de tipos"
   ]
  },
  {
   "cell_type": "code",
   "execution_count": 59,
   "metadata": {},
   "outputs": [
    {
     "name": "stdout",
     "output_type": "stream",
     "text": [
      "é inteiro\n"
     ]
    },
    {
     "data": {
      "text/plain": [
       "(False, True)"
      ]
     },
     "execution_count": 59,
     "metadata": {},
     "output_type": "execute_result"
    }
   ],
   "source": [
    "x = 20\n",
    "\n",
    "if isinstance(x, int):\n",
    "    print(\"é inteiro\")\n",
    "    \n",
    "class Veiculo:\n",
    "    pass\n",
    "\n",
    "class Caminhao(Veiculo):\n",
    "    pass\n",
    "\n",
    "v = Veiculo()\n",
    "c = Caminhao()\n",
    "\n",
    "type(c) == Veiculo, isinstance(c, Veiculo)"
   ]
  },
  {
   "cell_type": "markdown",
   "metadata": {},
   "source": [
    "## 12. Usar with para abertura de arquivos"
   ]
  },
  {
   "cell_type": "code",
   "execution_count": 60,
   "metadata": {},
   "outputs": [],
   "source": [
    "f = open('novo_arquivo.txt', 'w') \n",
    "f.write('hello world !') \n",
    "f.close()"
   ]
  },
  {
   "cell_type": "code",
   "execution_count": 61,
   "metadata": {},
   "outputs": [],
   "source": [
    "with open('novo_arquivo.txt', 'w') as file: \n",
    "    file.write('hello world !') "
   ]
  },
  {
   "cell_type": "markdown",
   "metadata": {},
   "source": [
    "## 13. Usar compreensões de listas com cuidado"
   ]
  },
  {
   "cell_type": "code",
   "execution_count": 66,
   "metadata": {},
   "outputs": [
    {
     "data": {
      "text/plain": [
       "[2, 4, 6, 8, 10]"
      ]
     },
     "execution_count": 66,
     "metadata": {},
     "output_type": "execute_result"
    }
   ],
   "source": [
    "lista_antiga = [1, 2, 3, 4, 5]\n",
    "\n",
    "nova_lista = [item * 2 for item in lista_antiga]\n",
    "\n",
    "nova_lista"
   ]
  },
  {
   "cell_type": "code",
   "execution_count": 67,
   "metadata": {},
   "outputs": [
    {
     "data": {
      "text/plain": [
       "[2, 4, 6, 8, 10]"
      ]
     },
     "execution_count": 67,
     "metadata": {},
     "output_type": "execute_result"
    }
   ],
   "source": [
    "lista_antiga = [1, 2, 3, 4, 5]\n",
    "\n",
    "def multiplica_lista_por_2(lista):\n",
    "    nova_lista = []\n",
    "    for i in lista:\n",
    "        nova_lista.append(i * 2)\n",
    "        \n",
    "    return nova_lista\n",
    "\n",
    "lista_nova = multiplica_lista_por_2(lista_antiga)\n",
    "\n",
    "lista_nova"
   ]
  },
  {
   "cell_type": "code",
   "execution_count": 71,
   "metadata": {},
   "outputs": [
    {
     "data": {
      "text/plain": [
       "[60, 20, 24, 56, 34]"
      ]
     },
     "execution_count": 71,
     "metadata": {},
     "output_type": "execute_result"
    }
   ],
   "source": [
    "idades = [1, 60, 20, 24, 56, 34, 101]\n",
    "\n",
    "def retorna_idades_entre(lista_idades, idade_minima, idade_maxima):\n",
    "    nova_lista = []\n",
    "    \n",
    "    for idade in lista_idades:\n",
    "        if idade > idade_minima and idade < idade_maxima:\n",
    "            nova_lista.append(idade)\n",
    "            \n",
    "    return nova_lista\n",
    "\n",
    "nova_lista = retorna_idades_entre(idades, 10, 100)\n",
    "\n",
    "nova_lista"
   ]
  },
  {
   "cell_type": "markdown",
   "metadata": {},
   "source": [
    "## 14. Cuidado com else em loops"
   ]
  },
  {
   "cell_type": "code",
   "execution_count": 74,
   "metadata": {},
   "outputs": [
    {
     "name": "stdout",
     "output_type": "stream",
     "text": [
      "cheguei ao fim do for\n"
     ]
    }
   ],
   "source": [
    "flag_fim_do_for = False\n",
    "for item in [1, 2, 3]:\n",
    "    if item == 3:\n",
    "        flag_fim_do_for = True\n",
    "\n",
    "if flag_fim_do_for:\n",
    "    print(\"cheguei ao fim do for\")"
   ]
  },
  {
   "cell_type": "markdown",
   "metadata": {},
   "source": [
    "## 15. Use enumerate quando for conveniente"
   ]
  },
  {
   "cell_type": "code",
   "execution_count": 75,
   "metadata": {},
   "outputs": [
    {
     "name": "stdout",
     "output_type": "stream",
     "text": [
      "0 20\n",
      "1 25\n",
      "2 66\n",
      "3 71\n",
      "4 27\n",
      "5 14\n"
     ]
    }
   ],
   "source": [
    "pontos = [20, 25, 66, 71, 27, 14]\n",
    "\n",
    "i = 0\n",
    "for p in pontos:\n",
    "    print(i, p)\n",
    "    i += 1"
   ]
  },
  {
   "cell_type": "code",
   "execution_count": 77,
   "metadata": {},
   "outputs": [
    {
     "name": "stdout",
     "output_type": "stream",
     "text": [
      "1 20\n",
      "2 25\n",
      "3 66\n",
      "4 71\n",
      "5 27\n",
      "6 14\n"
     ]
    }
   ],
   "source": [
    "pontos = [20, 25, 66, 71, 27, 14]\n",
    "\n",
    "for indice, ponto in enumerate(pontos, 1):\n",
    "    print(indice, ponto)"
   ]
  },
  {
   "cell_type": "markdown",
   "metadata": {},
   "source": [
    "## 16. Usar zip quando for conveniente"
   ]
  },
  {
   "cell_type": "code",
   "execution_count": 78,
   "metadata": {},
   "outputs": [
    {
     "name": "stdout",
     "output_type": "stream",
     "text": [
      "a 20\n",
      "b 25\n",
      "c 66\n",
      "d 71\n"
     ]
    }
   ],
   "source": [
    "jogadores = [\"a\", \"b\", \"c\", \"d\"]\n",
    "pontos = [20, 25, 66, 71]\n",
    "\n",
    "for i in range(len(jogadores)):\n",
    "    print(jogadores[i], pontos[i])"
   ]
  },
  {
   "cell_type": "code",
   "execution_count": 79,
   "metadata": {},
   "outputs": [
    {
     "name": "stdout",
     "output_type": "stream",
     "text": [
      "a 20\n",
      "b 25\n",
      "c 66\n",
      "d 71\n"
     ]
    }
   ],
   "source": [
    "for jogador, ponto in zip(jogadores, pontos):\n",
    "    print(jogador, ponto)"
   ]
  },
  {
   "cell_type": "markdown",
   "metadata": {},
   "source": [
    "# Referências\n",
    "\n",
    "1. https://realpython.com/python-pep8/\n",
    "2. https://www.freecodecamp.org/news/object-oriented-programming-concepts-21bb035f7260/\n",
    "3. Clean Python\n",
    "4. https://www.youtube.com/watch?v=n_Y-_7R2KsY\n",
    "5. https://github.com/zedr/clean-code-python"
   ]
  }
 ],
 "metadata": {
  "kernelspec": {
   "display_name": "Python 3",
   "language": "python",
   "name": "python3"
  },
  "language_info": {
   "codemirror_mode": {
    "name": "ipython",
    "version": 3
   },
   "file_extension": ".py",
   "mimetype": "text/x-python",
   "name": "python",
   "nbconvert_exporter": "python",
   "pygments_lexer": "ipython3",
   "version": "3.7.5"
  }
 },
 "nbformat": 4,
 "nbformat_minor": 4
}
